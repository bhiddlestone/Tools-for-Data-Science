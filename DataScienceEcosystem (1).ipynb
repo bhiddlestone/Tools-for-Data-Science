{
 "cells": [
  {
   "cell_type": "markdown",
   "id": "5945774e-3c4b-49a5-b73f-d86ab4e36c4d",
   "metadata": {},
   "source": [
    "<h1>Data Science Tools and Ecosystem</h1>"
   ]
  },
  {
   "cell_type": "markdown",
   "id": "58730589-188e-4300-ae1c-9460b9a02ccc",
   "metadata": {},
   "source": [
    "<h2><b></b>Author<b></b></h2>\n",
    "Brandan"
   ]
  },
  {
   "cell_type": "markdown",
   "id": "1bf39096-0fcc-4d97-8960-4e8d0f82f488",
   "metadata": {},
   "source": [
    "In this notebook, Data Science Tools and Ecosystem are summarized."
   ]
  },
  {
   "cell_type": "markdown",
   "id": "47ab1374-962a-480c-92a7-8e0f682296d3",
   "metadata": {},
   "source": [
    "**Objectives:**\n",
    "- List popular languages for Data Science\n",
    "- Learn how to create headers in markdown\n",
    "- List commonly used libraries for Data Science\n",
    "- List some open-source data science tools\n",
    "- Learn how to do arithmetic expressions in python and display the results"
   ]
  },
  {
   "cell_type": "markdown",
   "id": "52b9826b-8b15-419a-9d1c-e8b35d820933",
   "metadata": {},
   "source": [
    "Some of the popular languages that Data Scientists use are:\n",
    "1. python\n",
    "2. R\n",
    "3. SQL\n",
    "4. Julia"
   ]
  },
  {
   "cell_type": "markdown",
   "id": "8041bdbc-e903-438e-ba9c-c0e02e5b23ee",
   "metadata": {},
   "source": [
    "Some of the commonly used libraries used by Data Scientists include:\n",
    "1. NumPy\n",
    "2. Pandas\n",
    "3. Matplotlib\n",
    "4. Seaborn\n",
    "5. Scikit-Learn"
   ]
  },
  {
   "cell_type": "markdown",
   "id": "6220fa75-1f56-4214-9522-17937514923a",
   "metadata": {},
   "source": [
    "| Data Science Tools |\n",
    "| --------------------- |\n",
    "| Apache Spark |\n",
    "| Apache Hadoop |\n",
    "| RStudio |"
   ]
  },
  {
   "cell_type": "markdown",
   "id": "9f97546e-75d4-4bea-a725-99a03cd328a2",
   "metadata": {},
   "source": [
    "<h3>Below are a few examples of evaluating arithmetic expressions in Python</h3>"
   ]
  },
  {
   "cell_type": "code",
   "execution_count": 2,
   "id": "90bff05b-4fe2-4f7a-81df-ce26f6af0a43",
   "metadata": {},
   "outputs": [
    {
     "data": {
      "text/plain": [
       "17"
      ]
     },
     "execution_count": 2,
     "metadata": {},
     "output_type": "execute_result"
    }
   ],
   "source": [
    "# This a simple arithmetic expression to mutiply then add integers\n",
    "(3*4)+5"
   ]
  },
  {
   "cell_type": "code",
   "execution_count": 3,
   "id": "5599e615-ae7f-43f0-9817-844ef8924964",
   "metadata": {},
   "outputs": [
    {
     "data": {
      "text/plain": [
       "3.3333333333333335"
      ]
     },
     "execution_count": 3,
     "metadata": {},
     "output_type": "execute_result"
    }
   ],
   "source": [
    "# This will convert 200 minutes to hours by diving by 60\n",
    "200/60"
   ]
  },
  {
   "cell_type": "markdown",
   "id": "ffef3da3-a23f-445c-85e9-e43c2c71ddb9",
   "metadata": {},
   "source": []
  }
 ],
 "metadata": {
  "kernelspec": {
   "display_name": "Python 3 (ipykernel)",
   "language": "python",
   "name": "python3"
  },
  "language_info": {
   "codemirror_mode": {
    "name": "ipython",
    "version": 3
   },
   "file_extension": ".py",
   "mimetype": "text/x-python",
   "name": "python",
   "nbconvert_exporter": "python",
   "pygments_lexer": "ipython3",
   "version": "3.12.8"
  }
 },
 "nbformat": 4,
 "nbformat_minor": 5
}
